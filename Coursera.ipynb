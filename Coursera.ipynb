{
    "cells": [
        {
            "cell_type": "markdown",
            "metadata": {
                "collapsed": true
            },
            "source": "This notebook is used for the Coursera Capstone Project."
        },
        {
            "cell_type": "code",
            "execution_count": 2,
            "metadata": {},
            "outputs": [],
            "source": "import pandas as pd\nimport numpy as np"
        },
        {
            "cell_type": "code",
            "execution_count": 3,
            "metadata": {},
            "outputs": [
                {
                    "name": "stdout",
                    "output_type": "stream",
                    "text": "Hello Capstone Project Course!\n"
                }
            ],
            "source": "print(\"Hello Capstone Project Course!\")"
        },
        {
            "cell_type": "code",
            "execution_count": 4,
            "metadata": {},
            "outputs": [
                {
                    "name": "stderr",
                    "output_type": "stream",
                    "text": "/opt/conda/envs/Python36/lib/python3.6/site-packages/IPython/core/interactiveshell.py:3020: DtypeWarning: Columns (33) have mixed types. Specify dtype option on import or set low_memory=False.\n  interactivity=interactivity, compiler=compiler, result=result)\n"
                },
                {
                    "data": {
                        "text/plain": "Index(['SEVERITYCODE', 'X', 'Y', 'OBJECTID', 'INCKEY', 'COLDETKEY', 'REPORTNO',\n       'STATUS', 'ADDRTYPE', 'INTKEY', 'LOCATION', 'EXCEPTRSNCODE',\n       'EXCEPTRSNDESC', 'SEVERITYCODE.1', 'SEVERITYDESC', 'COLLISIONTYPE',\n       'PERSONCOUNT', 'PEDCOUNT', 'PEDCYLCOUNT', 'VEHCOUNT', 'INCDATE',\n       'INCDTTM', 'JUNCTIONTYPE', 'SDOT_COLCODE', 'SDOT_COLDESC',\n       'INATTENTIONIND', 'UNDERINFL', 'WEATHER', 'ROADCOND', 'LIGHTCOND',\n       'PEDROWNOTGRNT', 'SDOTCOLNUM', 'SPEEDING', 'ST_COLCODE', 'ST_COLDESC',\n       'SEGLANEKEY', 'CROSSWALKKEY', 'HITPARKEDCAR'],\n      dtype='object')"
                    },
                    "execution_count": 4,
                    "metadata": {},
                    "output_type": "execute_result"
                }
            ],
            "source": "path = \"https://s3.us.cloud-object-storage.appdomain.cloud/cf-courses-data/CognitiveClass/DP0701EN/version-2/Data-Collisions.csv\"\ndf = pd.read_csv(path)\ndf.columns"
        },
        {
            "cell_type": "code",
            "execution_count": 5,
            "metadata": {},
            "outputs": [
                {
                    "data": {
                        "text/plain": "1    136485\n2     58188\nName: SEVERITYCODE, dtype: int64"
                    },
                    "execution_count": 5,
                    "metadata": {},
                    "output_type": "execute_result"
                }
            ],
            "source": "df[\"SEVERITYCODE\"].value_counts()"
        },
        {
            "cell_type": "code",
            "execution_count": 6,
            "metadata": {},
            "outputs": [],
            "source": "from sklearn.utils import resample"
        },
        {
            "cell_type": "code",
            "execution_count": 7,
            "metadata": {},
            "outputs": [
                {
                    "data": {
                        "text/plain": "2    58188\n1    58188\nName: SEVERITYCODE, dtype: int64"
                    },
                    "execution_count": 7,
                    "metadata": {},
                    "output_type": "execute_result"
                }
            ],
            "source": "# Downsampling\n\ndf_major = df[df.SEVERITYCODE == 1]\ndf_minor = df[df.SEVERITYCODE == 2]\n\ndf_sample = resample(df_major,\n                    replace = False,\n                    n_samples = 58188,\n                    random_state = 123)\n\nnew_df = pd.concat([df_sample, df_minor])\nnew_df.SEVERITYCODE.value_counts()"
        },
        {
            "cell_type": "code",
            "execution_count": 8,
            "metadata": {},
            "outputs": [
                {
                    "data": {
                        "text/plain": "SEVERITYCODE      category\nX                  float64\nY                  float64\nOBJECTID             int64\nINCKEY               int64\nCOLDETKEY            int64\nREPORTNO            object\nSTATUS              object\nADDRTYPE            object\nINTKEY             float64\nLOCATION            object\nEXCEPTRSNCODE       object\nEXCEPTRSNDESC       object\nSEVERITYCODE.1       int64\nSEVERITYDESC        object\nCOLLISIONTYPE       object\nPERSONCOUNT          int64\nPEDCOUNT             int64\nPEDCYLCOUNT          int64\nVEHCOUNT             int64\nINCDATE             object\nINCDTTM             object\nJUNCTIONTYPE        object\nSDOT_COLCODE         int64\nSDOT_COLDESC        object\nINATTENTIONIND      object\nUNDERINFL           object\nWEATHER           category\nROADCOND          category\nLIGHTCOND         category\nPEDROWNOTGRNT       object\nSDOTCOLNUM         float64\nSPEEDING            object\nST_COLCODE          object\nST_COLDESC          object\nSEGLANEKEY           int64\nCROSSWALKKEY         int64\nHITPARKEDCAR        object\ndtype: object"
                    },
                    "execution_count": 8,
                    "metadata": {},
                    "output_type": "execute_result"
                }
            ],
            "source": "for col in ['WEATHER', 'ROADCOND', 'LIGHTCOND', 'SEVERITYCODE']:\n    new_df[col] = new_df[col].astype('category')\nnew_df.dtypes"
        },
        {
            "cell_type": "code",
            "execution_count": 9,
            "metadata": {},
            "outputs": [
                {
                    "data": {
                        "text/plain": "Clear                       67946\nRaining                     20584\nOvercast                    16834\nUnknown                      6851\nSnowing                       474\nOther                         406\nFog/Smog/Smoke                355\nSleet/Hail/Freezing Rain       63\nBlowing Sand/Dirt              30\nSevere Crosswind               13\nPartly Cloudy                   4\nName: WEATHER, dtype: int64"
                    },
                    "execution_count": 9,
                    "metadata": {},
                    "output_type": "execute_result"
                }
            ],
            "source": "new_df[\"WEATHER\"].value_counts()"
        },
        {
            "cell_type": "code",
            "execution_count": 10,
            "metadata": {},
            "outputs": [
                {
                    "data": {
                        "text/plain": "Dry               76000\nWet               29374\nUnknown            6806\nIce                 678\nSnow/Slush          528\nOther                83\nStanding Water       57\nSand/Mud/Dirt        47\nOil                  39\nName: ROADCOND, dtype: int64"
                    },
                    "execution_count": 10,
                    "metadata": {},
                    "output_type": "execute_result"
                }
            ],
            "source": "new_df[\"ROADCOND\"].value_counts()"
        },
        {
            "cell_type": "code",
            "execution_count": 11,
            "metadata": {},
            "outputs": [
                {
                    "data": {
                        "text/plain": "Daylight                    71503\nDark - Street Lights On     29133\nUnknown                      6062\nDusk                         3592\nDawn                         1535\nDark - No Street Lights       866\nDark - Street Lights Off      703\nOther                         127\nDark - Unknown Lighting         7\nName: LIGHTCOND, dtype: int64"
                    },
                    "execution_count": 11,
                    "metadata": {},
                    "output_type": "execute_result"
                }
            ],
            "source": "new_df[\"LIGHTCOND\"].value_counts()"
        },
        {
            "cell_type": "code",
            "execution_count": 12,
            "metadata": {},
            "outputs": [
                {
                    "data": {
                        "text/plain": "2    58188\n1    58188\nName: SEVERITYCODE, dtype: int64"
                    },
                    "execution_count": 12,
                    "metadata": {},
                    "output_type": "execute_result"
                }
            ],
            "source": "new_df[\"SEVERITYCODE\"].value_counts()"
        },
        {
            "cell_type": "code",
            "execution_count": 13,
            "metadata": {},
            "outputs": [
                {
                    "data": {
                        "text/plain": "array([[ 6,  8,  2],\n       [ 1,  0,  5],\n       [10,  7,  8],\n       [ 1,  0,  5],\n       [ 1,  0,  5]], dtype=int8)"
                    },
                    "execution_count": 13,
                    "metadata": {},
                    "output_type": "execute_result"
                }
            ],
            "source": "new_df[\"WEATHER\"] = new_df[\"WEATHER\"].cat.codes\nnew_df[\"ROADCOND\"] = new_df[\"ROADCOND\"].cat.codes\nnew_df[\"LIGHTCOND\"] = new_df[\"LIGHTCOND\"].cat.codes\nx = np.asarray(new_df[['WEATHER','ROADCOND','LIGHTCOND']])\nx[0:5]"
        },
        {
            "cell_type": "code",
            "execution_count": 14,
            "metadata": {},
            "outputs": [
                {
                    "data": {
                        "text/plain": "array([1, 1, 1, 1, 1])"
                    },
                    "execution_count": 14,
                    "metadata": {},
                    "output_type": "execute_result"
                }
            ],
            "source": "y = np.asarray(new_df['SEVERITYCODE'])\ny[0:5]"
        },
        {
            "cell_type": "code",
            "execution_count": 15,
            "metadata": {},
            "outputs": [
                {
                    "name": "stderr",
                    "output_type": "stream",
                    "text": "/opt/conda/envs/Python36/lib/python3.6/site-packages/sklearn/utils/validation.py:595: DataConversionWarning: Data with input dtype int8 was converted to float64 by StandardScaler.\n  warnings.warn(msg, DataConversionWarning)\n/opt/conda/envs/Python36/lib/python3.6/site-packages/sklearn/utils/validation.py:595: DataConversionWarning: Data with input dtype int8 was converted to float64 by StandardScaler.\n  warnings.warn(msg, DataConversionWarning)\n"
                },
                {
                    "data": {
                        "text/plain": "array([[ 1.15236718,  1.52797946, -1.21648407],\n       [-0.67488   , -0.67084969,  0.42978835],\n       [ 2.61416492,  1.25312582,  2.07606076],\n       [-0.67488   , -0.67084969,  0.42978835],\n       [-0.67488   , -0.67084969,  0.42978835]])"
                    },
                    "execution_count": 15,
                    "metadata": {},
                    "output_type": "execute_result"
                }
            ],
            "source": "from sklearn import preprocessing\nx = preprocessing.StandardScaler().fit(x).transform(x)\nx[0:5]"
        },
        {
            "cell_type": "code",
            "execution_count": 16,
            "metadata": {},
            "outputs": [],
            "source": "from sklearn.model_selection import train_test_split"
        },
        {
            "cell_type": "code",
            "execution_count": 26,
            "metadata": {},
            "outputs": [
                {
                    "name": "stdout",
                    "output_type": "stream",
                    "text": "Train set:  (81463, 3) (81463,)\nTest set:  (34913, 3) (34913,)\n"
                }
            ],
            "source": "x_train, x_test, y_train, y_test = train_test_split(x, y, test_size = 0.3, random_state = 42)\nprint('Train set: ', x_train.shape, y_train.shape)\nprint('Test set: ', x_test.shape, y_test.shape)"
        },
        {
            "cell_type": "code",
            "execution_count": 31,
            "metadata": {},
            "outputs": [],
            "source": "#KNN\n\nfrom sklearn.neighbors import KNeighborsClassifier\nk = 17"
        },
        {
            "cell_type": "code",
            "execution_count": 32,
            "metadata": {},
            "outputs": [
                {
                    "data": {
                        "text/plain": "array([1, 1, 1, 1, 1])"
                    },
                    "execution_count": 32,
                    "metadata": {},
                    "output_type": "execute_result"
                }
            ],
            "source": "NB = KNeighborsClassifier(n_neighbors = k).fit(x_train, y_train)\nNB\n\nkyhat = NB.predict(x_test)\nkyhat[0:5]"
        },
        {
            "cell_type": "code",
            "execution_count": 78,
            "metadata": {},
            "outputs": [
                {
                    "data": {
                        "text/plain": "0.5190616675736831"
                    },
                    "execution_count": 78,
                    "metadata": {},
                    "output_type": "execute_result"
                }
            ],
            "source": "jaccard_similarity_score(y_test, kyhat)"
        },
        {
            "cell_type": "code",
            "execution_count": 81,
            "metadata": {},
            "outputs": [
                {
                    "data": {
                        "text/plain": "0.5097879480067022"
                    },
                    "execution_count": 81,
                    "metadata": {},
                    "output_type": "execute_result"
                }
            ],
            "source": "from sklearn.metrics import f1_score\nf1_score(y_test, kyhat, average='macro')"
        },
        {
            "cell_type": "code",
            "execution_count": 53,
            "metadata": {},
            "outputs": [
                {
                    "data": {
                        "text/plain": "DecisionTreeClassifier(class_weight=None, criterion='entropy', max_depth=7,\n            max_features=None, max_leaf_nodes=None,\n            min_impurity_decrease=0.0, min_impurity_split=None,\n            min_samples_leaf=1, min_samples_split=2,\n            min_weight_fraction_leaf=0.0, presort=False, random_state=None,\n            splitter='best')"
                    },
                    "execution_count": 53,
                    "metadata": {},
                    "output_type": "execute_result"
                }
            ],
            "source": "# Decision Tree\n\nfrom sklearn.tree import DecisionTreeClassifier\ndt = DecisionTreeClassifier(criterion=\"entropy\", max_depth = 7)\ndt.fit(x_train, y_train)"
        },
        {
            "cell_type": "code",
            "execution_count": 85,
            "metadata": {},
            "outputs": [],
            "source": "dt_y_pred = dt.predict(x_test)"
        },
        {
            "cell_type": "code",
            "execution_count": 97,
            "metadata": {},
            "outputs": [
                {
                    "data": {
                        "text/plain": "0.5626843869045914"
                    },
                    "execution_count": 97,
                    "metadata": {},
                    "output_type": "execute_result"
                }
            ],
            "source": "jaccard_similarity_score(y_test, dt_y_pred)"
        },
        {
            "cell_type": "code",
            "execution_count": 98,
            "metadata": {},
            "outputs": [
                {
                    "data": {
                        "text/plain": "0.5385207275454998"
                    },
                    "execution_count": 98,
                    "metadata": {},
                    "output_type": "execute_result"
                }
            ],
            "source": "f1_score(y_test, dt_y_pred, average='macro')"
        },
        {
            "cell_type": "code",
            "execution_count": 86,
            "metadata": {},
            "outputs": [],
            "source": "# Log Regression\n\nfrom sklearn.linear_model import LogisticRegression\nfrom sklearn.metrics import confusion_matrix"
        },
        {
            "cell_type": "code",
            "execution_count": 87,
            "metadata": {},
            "outputs": [],
            "source": "LR = LogisticRegression(C=6, solver='liblinear').fit(x_train,y_train)"
        },
        {
            "cell_type": "code",
            "execution_count": 90,
            "metadata": {},
            "outputs": [
                {
                    "data": {
                        "text/plain": "0.6855328681086409"
                    },
                    "execution_count": 90,
                    "metadata": {},
                    "output_type": "execute_result"
                }
            ],
            "source": "from sklearn.metrics import log_loss\nLR_y_pred = LR.predict(x_test)\nLR_y_prob = LR.predict_proba(x_test)\nlog_loss(y_test, LR_y_prob)"
        },
        {
            "cell_type": "code",
            "execution_count": 91,
            "metadata": {},
            "outputs": [
                {
                    "data": {
                        "text/plain": "0.523501274596855"
                    },
                    "execution_count": 91,
                    "metadata": {},
                    "output_type": "execute_result"
                }
            ],
            "source": "jaccard_similarity_score(y_test, LR_y_pred)"
        },
        {
            "cell_type": "code",
            "execution_count": 92,
            "metadata": {},
            "outputs": [
                {
                    "data": {
                        "text/plain": "0.5098573271706865"
                    },
                    "execution_count": 92,
                    "metadata": {},
                    "output_type": "execute_result"
                }
            ],
            "source": "f1_score(y_test, LR_y_pred, average='macro')"
        },
        {
            "cell_type": "code",
            "execution_count": null,
            "metadata": {},
            "outputs": [],
            "source": ""
        }
    ],
    "metadata": {
        "kernelspec": {
            "display_name": "Python 3.6",
            "language": "python",
            "name": "python3"
        },
        "language_info": {
            "codemirror_mode": {
                "name": "ipython",
                "version": 3
            },
            "file_extension": ".py",
            "mimetype": "text/x-python",
            "name": "python",
            "nbconvert_exporter": "python",
            "pygments_lexer": "ipython3",
            "version": "3.6.9"
        }
    },
    "nbformat": 4,
    "nbformat_minor": 1
}